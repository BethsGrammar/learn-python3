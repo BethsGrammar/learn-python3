{
 "cells": [
  {
   "cell_type": "markdown",
   "metadata": {},
   "source": [
    "# 1. Fantasy Football Scores\n",
    "The program below takes data from a file which corresponds to the players in the list called `players`.\n",
    "\n",
    "Each row of the file (respectively in order of the `players` list) has 2 elements of data, the goals scored and the assists by a player.\n",
    "\n",
    "Each goal earn a player 5 points and an assist earns 3 points. \n",
    "\n",
    "Work out the total points for each player and sort the list out in order of highest points printing each player out like the example below:\n",
    "\n",
    "```\n",
    "Player: Name\n",
    "Goals: ##\n",
    "Assists: ##\n",
    "Total Points: ##\n",
    "```"
   ]
  },
  {
   "cell_type": "code",
   "execution_count": null,
   "metadata": {},
   "outputs": [],
   "source": [
    "players = ['Salah', 'Aubameyang', 'Mane', 'Aguero','Vardy', 'Kane','Sterling','Hazard','Wilson','Richarlison']\n",
    "# Load the player stats from the file\n",
    "file = open(\"assets/stats.txt\")\n",
    "stats = []\n",
    "\n",
    "table = []\n",
    "for line in file:\n",
    "\tstats.append(line.strip(\"\\n\"))\n",
    "\n",
    "# Use the multipliers to work out each player's total points. \n",
    "# 5 points for a goal, 3 points for an assist.\n",
    "multipliers = [5,3]\n",
    "\n",
    "# creating the loop to add the stats to the table.\n",
    "for i in range(0, len(stats)):\n",
    "\tgoals, assists = stats[i].split(\",\")\n",
    "\tpoints = _____\n",
    "\t\n",
    "    # add each player name, goals , assists and points to a 2d array\n",
    "\n",
    "# Output should look like this: [['Salah', '22', '8', 134], ['Aubameyang', '22', '5', 125]...\n",
    "print(table)\n",
    "\n"
   ]
  },
  {
   "cell_type": "code",
   "execution_count": null,
   "metadata": {
    "editable": false
   },
   "outputs": [],
   "source": [
    "assert table == [['Salah', '22', '8', 134], ['Aubameyang', '22', '5', 125], ['Mane', '22', '1', 113], ['Aguero', '21', '8', 129], ['Vardy', '18', '4', 102], ['Kane', '17', '4', 97], ['Sterling', '17', '9', 112], ['Hazard', '16', '15', 125], ['Wilson', '14', '9', 97], ['Richarlison', '13', '1', 68]]"
   ]
  }
 ],
 "metadata": {
  "kernelspec": {
   "display_name": "Python 3",
   "language": "python",
   "name": "python3"
  },
  "language_info": {
   "codemirror_mode": {
    "name": "ipython",
    "version": 3
   },
   "file_extension": ".py",
   "mimetype": "text/x-python",
   "name": "python",
   "nbconvert_exporter": "python",
   "pygments_lexer": "ipython3",
   "version": "3.12.4"
  }
 },
 "nbformat": 4,
 "nbformat_minor": 2
}
