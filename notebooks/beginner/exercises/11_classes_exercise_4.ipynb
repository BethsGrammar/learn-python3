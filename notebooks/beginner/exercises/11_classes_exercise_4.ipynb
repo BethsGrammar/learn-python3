{
 "cells": [
  {
   "cell_type": "markdown",
   "metadata": {},
   "source": [
    "# FezHome\n",
    "FezHome is a home automation software that allows homeowners to purchase IoT devices for the home. Smart devices pair with a mobile that has a FezHome account ID.\n",
    "\n",
    "## Task 1\n",
    "1. Fill the missing pieces of the FezHome smart switch class, `FezSwitch`. The smart switch has a default attribute of `on` which is set to `False` and the paired `accountID`."
   ]
  },
  {
   "cell_type": "code",
   "execution_count": null,
   "metadata": {},
   "outputs": [],
   "source": [
    "# Run this too. \n",
    "from random import randint\n",
    "\n",
    "def check_temp(random=None):\n",
    "    return 22 if random == None else randint(17,22)"
   ]
  },
  {
   "cell_type": "code",
   "execution_count": null,
   "metadata": {},
   "outputs": [],
   "source": [
    "class ____:\n",
    "    def __init__(self, accountID):\n",
    "        self.____ = ____\n",
    "        ____.____ = ____\n",
    "\n",
    "    # more methods to go here later #\n",
    "    "
   ]
  },
  {
   "cell_type": "code",
   "execution_count": null,
   "metadata": {
    "editable": false
   },
   "outputs": [],
   "source": [
    "user1 = FezSwitch(\"WHYT564\")\n",
    "assert user1.on == False, f\"❌ Why is the Switch on Bro?!\""
   ]
  },
  {
   "cell_type": "markdown",
   "metadata": {},
   "source": [
    "## Task 2 (a)\n",
    "FezHome also has a device called the `FezThom` which is a smart thermometer. This extends the `FezSwitch` by adding a digital thermometer which surveys the room for current temperature which is set to an attribute called `current_temp` and also has an attribute called `target_temp` which can be set to null or a number between 14 and 28.\n",
    "\n",
    "Create the child class, `FezHome` which inherits from `FezSwitch`. Additional attributes for FezThom are not passed at point of instantiation.\n",
    "\n",
    "Create a method called `survey_room()` which the calls on the function `check_temp()` and updates the attribute `current_temp`."
   ]
  },
  {
   "cell_type": "code",
   "execution_count": null,
   "metadata": {},
   "outputs": [],
   "source": [
    "#(2a) Create the FezThom class here\n",
    "\n",
    "\n",
    "    # Add the methods for FezThom here remember to nest under the class.\n",
    "\n",
    "\n",
    "    #(2b)"
   ]
  },
  {
   "cell_type": "code",
   "execution_count": null,
   "metadata": {},
   "outputs": [],
   "source": [
    "thermometre1 = FezThom(\"WHYT564\")\n",
    "assert thermometre1.check_temp() == 22"
   ]
  },
  {
   "cell_type": "markdown",
   "metadata": {},
   "source": [
    "## Task 2 (b) \n",
    "Create a method called `set_temp` which takes an integer as an argument between 14-28 inclusive. This should update the `target_temp` attribute.\n",
    "If the current temperature is below the `target_temp` attribute, the method should return `\"x degrees until target temperature is reached\"`, `x` being the difference in temperature.\n",
    "\n",
    "If the current temperature is equal to or above the target, the method should return `\"Not heating\"`."
   ]
  },
  {
   "cell_type": "code",
   "execution_count": null,
   "metadata": {},
   "outputs": [],
   "source": [
    "thermometre1.check_temp(17)\n",
    "assert thermometre1.set_temp(24) == \"7 degrees until target temperature is reached\"\n",
    "thermometre1.check_temp(24)\n",
    "assert thermometre1.set_temp(22) == \"Not heating\""
   ]
  },
  {
   "cell_type": "markdown",
   "metadata": {},
   "source": [
    "# 2. Re-Create `len()` as a new class called `NewLen()`\n",
    "You're going to create a class called `NewLen()` that takes an argument and works out the length of the given object using a method called `lenn()`.\n",
    "\n",
    "For example, I should be able to use the program like this:\n",
    "\n",
    "`list_example = NewLen([1,2,4])`\n",
    "\n",
    "`print(list_example.lenn())` --> Should return 3\n",
    "\n",
    "You will be tested on returning the length of a string, a list and a dictionary.\n",
    "\n",
    "You're not allowed to use the `len()` function at all!\n",
    "\n",
    "Functions you can use:\n",
    "* `List()`\n",
    "* `type()`\n",
    "* `split()`\n",
    "* and anything else that doesn't require using `len()` to cheat! 😊"
   ]
  },
  {
   "cell_type": "code",
   "execution_count": null,
   "metadata": {},
   "outputs": [],
   "source": [
    "class NewLen():\n",
    "    # Your implementation here"
   ]
  },
  {
   "cell_type": "code",
   "execution_count": null,
   "metadata": {
    "editable": false
   },
   "outputs": [],
   "source": [
    "list_example = NewLen([1,2,3,4])\n",
    "assert list_example.lenn() == 4\n",
    "dict_example = NewLen({\"name\":\"Daniel\", \"Age\":15})\n",
    "assert dict_example.lenn() == 2\n",
    "str_example = NewLen(\"A string of several characters\")\n",
    "assert str_example.lenn() == 30\n"
   ]
  }
 ],
 "metadata": {
  "kernelspec": {
   "display_name": "Python 3",
   "language": "python",
   "name": "python3"
  },
  "language_info": {
   "codemirror_mode": {
    "name": "ipython",
    "version": 3
   },
   "file_extension": ".py",
   "mimetype": "text/x-python",
   "name": "python",
   "nbconvert_exporter": "python",
   "pygments_lexer": "ipython3",
   "version": "3.12.4"
  }
 },
 "nbformat": 4,
 "nbformat_minor": 2
}
