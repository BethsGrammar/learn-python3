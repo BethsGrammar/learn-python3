{
 "cells": [
  {
   "cell_type": "markdown",
   "metadata": {},
   "source": [
    "# FezHome\n",
    "FezHome is a home automation software that allows homeowners to purchase IoT devices for the home. Smart devices pair with a mobile that has a FezHome account ID.\n",
    "\n",
    "## Task 1\n",
    "1. Fill the missing pieces of the FezHome smart switch class, `FezSwitch`. The smart switch has a default attribute of `is_on` which is set to `False` and the paired `accountID`."
   ]
  },
  {
   "cell_type": "code",
   "execution_count": null,
   "metadata": {},
   "outputs": [],
   "source": [
    "# Run this too. \n",
    "from random import randint\n",
    "\n",
    "def check_temp(temp_input=None):\n",
    "    \"\"\"\n",
    "    Returns a constant, a random value, or a specified integer.\n",
    "    \"\"\"\n",
    "    if temp_input is None:\n",
    "        # 1. No argument passed (default)\n",
    "        return 22\n",
    "    elif temp_input == \"r\":\n",
    "        # 2. Argument is \"r\"\n",
    "        return randint(17, 22)\n",
    "    else:\n",
    "        # 3. Argument is anything else (intended to be an integer override)\n",
    "        return temp_input"
   ]
  },
  {
   "cell_type": "code",
   "execution_count": null,
   "metadata": {},
   "outputs": [],
   "source": [
    "class ____:\n",
    "    def __init__(self, accountID):\n",
    "        self.____ = ____\n",
    "        ____.____ = ____\n",
    "\n",
    "    # more methods to go here later #\n",
    "    "
   ]
  },
  {
   "cell_type": "code",
   "execution_count": null,
   "metadata": {
    "editable": false
   },
   "outputs": [],
   "source": [
    "user1 = FezSwitch(\"WHYT564\")\n",
    "assert user1.is_on == False, f\"❌ Why is the Switch on Bro?!\""
   ]
  },
  {
   "cell_type": "markdown",
   "metadata": {},
   "source": [
    "## Task 2 (a)\n",
    "FezHome also has a device called the `FezThom` which is a smart thermostat. This extends the `FezSwitch` by adding a digital thermostat which surveys the room for current temperature which is set to an attribute called `current_temp` and also has an attribute called `target_temp` which can be set to null or a number between 14 and 28.\n",
    "\n",
    "Create the child class, `FezHome` which inherits from `FezSwitch`. Additional attributes for FezThom that are passed at point of instantiation are `min_temp_limit`, `max_temp_limit` & `location`.\n",
    "\n",
    "Create a method called `survey_room()` which the calls on the function `check_temp()` and updates the attribute `current_temp`."
   ]
  },
  {
   "cell_type": "code",
   "execution_count": null,
   "metadata": {},
   "outputs": [],
   "source": [
    "#(2a) Create the FezThom class here\n",
    "\n",
    "\n",
    "    # Add the methods for FezThom here remember to nest under the class.\n",
    "\n",
    "\n",
    "    #(2b)"
   ]
  },
  {
   "cell_type": "code",
   "execution_count": null,
   "metadata": {},
   "outputs": [],
   "source": [
    "thermometre1 = FezThom(\"WHYT564\", 14, 28, \"living_room\")\n",
    "assert thermometre1.survey_room() == 22"
   ]
  },
  {
   "cell_type": "markdown",
   "metadata": {},
   "source": [
    "## Task 2 (b) \n",
    "Create a method called `set_temp` which takes an integer as an argument between 14-28 inclusive. This should update the `target_temp` attribute.\n",
    "If the current temperature is below the `target_temp` attribute, the method should return `\"x degrees until target temperature is reached\"`, `x` being the difference in temperature.\n",
    "\n",
    "If the current temperature is equal to or above the target, the method should return `\"Not heating\"`."
   ]
  },
  {
   "cell_type": "code",
   "execution_count": null,
   "metadata": {},
   "outputs": [],
   "source": [
    "thermometre1.survey_room(17)\n",
    "print(f\"✅Current temp should be 17\")\n",
    "assert thermometre1.set_temp(24) == \"7 degrees until target temperature is reached\"\n",
    "thermometre1.survey_room(24)\n",
    "print(f\"✅Current temp should be 24\")\n",
    "assert thermometre1.set_temp(22) == \"Not heating\""
   ]
  },
  {
   "cell_type": "markdown",
   "metadata": {},
   "source": [
    "## Task 3. FezWash  \n",
    "Another device in the FezHome lineup is the the `FezWash` washing machine. This must also inherit from the FezSwitch class.\n",
    "It includes the attributes `current_cycle` which is set to `None` by default and also `capacity_kg` which is passed as an argument at point of instantiation. \n",
    "\n",
    "It extends the `FezSwitch` by adding the methods `startCycle()` and `check_weight()`.\n",
    "`check_weight()` must take an argument of `drum_weight` and returns True if the weight of the drum is below the `capacity_kg` attribute, verifying that the current wash can start.\n",
    "\n",
    "The `startCycle()` must take 2 arguments. the `drum_weight` and the an integer of 1-3 (`cycle_num`). The method must call the `check_weight()` method. if the method returns true, then the argument of `cycle_num` will return a message:\n",
    "1. --> `\"🌡️ 30° wash started\"`\n",
    "2. --> `\"⏩ Quick wash started\"`\n",
    "3. --> `\"🔥60° wash started\"`\n",
    "\n",
    "if the `check_weight()` method returns false, return the message `\"drum overweight\"`\n",
    "\n"
   ]
  },
  {
   "cell_type": "code",
   "execution_count": null,
   "metadata": {},
   "outputs": [],
   "source": [
    "# Your implementation here\n"
   ]
  },
  {
   "cell_type": "code",
   "execution_count": null,
   "metadata": {
    "editable": false
   },
   "outputs": [],
   "source": [
    "wash_machine1 = FezWash(\"WHYT564\", 6)\n",
    "assert wash_machine1.startCycle(1,4) == \"🌡️ 30° wash started\"\n",
    "assert wash_machine1.startCycle(1,8) == \"drum overweight\""
   ]
  }
 ],
 "metadata": {
  "kernelspec": {
   "display_name": "Python 3",
   "language": "python",
   "name": "python3"
  },
  "language_info": {
   "codemirror_mode": {
    "name": "ipython",
    "version": 3
   },
   "file_extension": ".py",
   "mimetype": "text/x-python",
   "name": "python",
   "nbconvert_exporter": "python",
   "pygments_lexer": "ipython3",
   "version": "3.12.4"
  }
 },
 "nbformat": 4,
 "nbformat_minor": 2
}
