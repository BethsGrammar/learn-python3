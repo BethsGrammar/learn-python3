{
 "cells": [
  {
   "cell_type": "markdown",
   "metadata": {},
   "source": [
    "# 1. Fill the missing pieces of the `count_even_numbers` function\n",
    "Fill `____` pieces of the `count_even_numbers` implemention in order to pass the assertions. You can assume that `numbers` argument is a list of integers."
   ]
  },
  {
   "cell_type": "code",
   "execution_count": null,
   "metadata": {},
   "outputs": [],
   "source": [
    "____ count_even_numbers(numbers):\n",
    "    count = 0\n",
    "    for num in ____:\n",
    "        if ____ % 2 == ____:\n",
    "            count += ____\n",
    "    _____ _____"
   ]
  },
  {
   "cell_type": "code",
   "execution_count": null,
   "metadata": {
    "editable": false
   },
   "outputs": [],
   "source": [
    "assert count_even_numbers([1, 2, 3, 4, 5, 6]) == 3\n",
    "assert count_even_numbers([1, 3, 5, 7]) == 0\n",
    "assert count_even_numbers([-2, 2, -10, 8]) == 4"
   ]
  },
  {
   "cell_type": "markdown",
   "metadata": {},
   "source": [
    "# 2. Searching for wanted people\n",
    "Implement `find_wanted_people` function which takes a list of names (strings) as argument. The function should return a list of names which are present both in `WANTED_PEOPLE` and in the name list given as argument to the function."
   ]
  },
  {
   "cell_type": "code",
   "execution_count": null,
   "metadata": {
    "editable": false
   },
   "outputs": [],
   "source": [
    "WANTED_PEOPLE = [\"John Doe\", \"Clint Eastwood\", \"Chuck Norris\"]"
   ]
  },
  {
   "cell_type": "code",
   "execution_count": null,
   "metadata": {},
   "outputs": [],
   "source": [
    "# Your implementation here"
   ]
  },
  {
   "cell_type": "code",
   "execution_count": null,
   "metadata": {
    "editable": false
   },
   "outputs": [],
   "source": [
    "people_to_check1 = [\"Donald Duck\", \"Clint Eastwood\", \"John Doe\", \"Barack Obama\"]\n",
    "wanted1 = find_wanted_people(people_to_check1)\n",
    "assert len(wanted1) == 2\n",
    "assert \"John Doe\" in wanted1\n",
    "assert \"Clint Eastwood\" in wanted1\n",
    "\n",
    "people_to_check2 = [\"Donald Duck\", \"Mickey Mouse\", \"Zorro\", \"Superman\", \"Robin Hood\"]\n",
    "wanted2 = find_wanted_people(people_to_check2)\n",
    "assert wanted2 == []"
   ]
  },
  {
   "cell_type": "markdown",
   "metadata": {},
   "source": [
    "# 3. Counting average length of words in a sentence\n",
    "Create a function `average_length_of_words` which takes a string as an argument and returns the average length of the words in the string. You can assume that there is a single space between each word and that the input does not have punctuation. The result should be rounded to one decimal place (hint: see [`round`](https://docs.python.org/3/library/functions.html#round))."
   ]
  },
  {
   "cell_type": "code",
   "execution_count": null,
   "metadata": {},
   "outputs": [],
   "source": [
    "# Your implementation here"
   ]
  },
  {
   "cell_type": "code",
   "execution_count": null,
   "metadata": {
    "editable": false
   },
   "outputs": [],
   "source": [
    "assert average_length_of_words(\"only four lett erwo rdss\") == 4\n",
    "assert average_length_of_words(\"one two three\") == 3.7\n",
    "assert average_length_of_words(\"one two three four\") == 3.8\n",
    "assert average_length_of_words(\"\") == 0"
   ]
  },
  {
   "cell_type": "markdown",
   "metadata": {},
   "source": [
    "# 4. Who likes it?\n",
    "[Borrowed from codewars](https://www.codewars.com/kata/5266876b8f4bf2da9b000362)\n",
    "You probably know the \"like\" system from Facebook and other pages. People can \"like\" blog posts, pictures or other items. We want to create the text that should be displayed next to such an item.\n",
    "\n",
    "Implement the function which takes an array containing the names of people that like an item. It must return the display text as shown in the examples:\n",
    "\n",
    "```[]                                -->  \"no one likes this\"\n",
    "[\"Peter\"]                         -->  \"Peter likes this\"\n",
    "[\"Jacob\", \"Alex\"]                 -->  \"Jacob and Alex like this\"\n",
    "[\"Max\", \"John\", \"Mark\"]           -->  \"Max, John and Mark like this\"\n",
    "[\"Alex\", \"Jacob\", \"Mark\", \"Max\"]  -->  \"Alex, Jacob and 2 others like this\"\n",
    "```"
   ]
  },
  {
   "cell_type": "code",
   "execution_count": null,
   "metadata": {},
   "outputs": [],
   "source": [
    "# your implementation here\n"
   ]
  },
  {
   "cell_type": "code",
   "execution_count": null,
   "metadata": {},
   "outputs": [],
   "source": [
    "assert likes([]) == 'no one likes this'\n",
    "assert likes(['Peter']) == 'Peter likes this'\n",
    "assert likes(['Jacob', 'Alex']) == 'Jacob and Alex like this'\n",
    "assert likes(['Max', 'John', 'Mark']) == 'Max, John and Mark like this'\n",
    "assert likes(['Alex', 'Jacob', 'Mark', 'Max']) == 'Alex, Jacob and 2 others like this'"
   ]
  },
  {
   "cell_type": "markdown",
   "metadata": {},
   "source": [
    "## Extension to task 4\n",
    "In this task you need to create a similar program that checks to see if \n",
    "users are in your friends list. If they are then you return the users\n",
    "that are and simply count the users that arent.\n",
    "\n",
    "```\n",
    "No users that are also in your friend list --> \"2 users like this\"\n",
    "1 user from your friend list, 2 arent --> \"Max and 2 others like this\"\n",
    "2 users from friend list 3 aren't --> \"Fatima, Max and 3 others like this\"\n",
    "3 users from friend list 3 aren't --> \"Carol, Fatima and 4 others like this\"\n",
    "```\n",
    "NOTE: The order of friends is in alphabetical order!"
   ]
  },
  {
   "cell_type": "code",
   "execution_count": null,
   "metadata": {},
   "outputs": [],
   "source": [
    "friends = [\"Max\", \"Fatima\", \"Faith\", \"Carol\", \"Jordan\"]\n",
    "\n",
    "# your implementation here\n"
   ]
  },
  {
   "cell_type": "code",
   "execution_count": null,
   "metadata": {},
   "outputs": [],
   "source": [
    "assert likes([]) == 'no one likes this' # No users in or or out of your friend list like this\n",
    "assert likes([\"Peter\", \"John\"]) == '2 users like this' # No users that are also in your friend list\n",
    "assert likes(['Jacob', 'Alex', 'Max']) == 'Max and 2 others like this' # 1 user from your friend list, 2 arent\n",
    "assert likes(['Max', 'John', 'Fatima','Mark', \"Peter\"]) == 'Fatima, Max and 3 others like this' #2 users from friend list 3 aren't\n",
    "assert likes(['Alex', 'Carol', 'Fatima', 'Jacob', 'Mark', 'Max']) == 'Carol, Fatima and 4 others like this' # 3 users from friend list 3 aren't"
   ]
  },
  {
   "cell_type": "markdown",
   "metadata": {},
   "source": [
    "# Task 5 square every digit\n",
    "Write a function to square every digit of a number and concatenate them.\n",
    "eg \n",
    "\n",
    "`square_each(9119)` --> `811181` because 9*9 is 81, +1*1 is 1, +1*1 is 1 and 9*9 is 81\n",
    "\n",
    "`square_each(765)` --> `493625`"
   ]
  },
  {
   "cell_type": "code",
   "execution_count": null,
   "metadata": {},
   "outputs": [],
   "source": [
    "# your implementation\n"
   ]
  },
  {
   "cell_type": "code",
   "execution_count": null,
   "metadata": {},
   "outputs": [],
   "source": [
    "assert square_each(9119) == 811181\n",
    "assert square_each(765) == 493625\n",
    "assert square_each(523) == 2549"
   ]
  }
 ],
 "metadata": {
  "kernelspec": {
   "display_name": "Python 3 (ipykernel)",
   "language": "python",
   "name": "python3"
  },
  "language_info": {
   "codemirror_mode": {
    "name": "ipython",
    "version": 3
   },
   "file_extension": ".py",
   "mimetype": "text/x-python",
   "name": "python",
   "nbconvert_exporter": "python",
   "pygments_lexer": "ipython3",
   "version": "3.11.0"
  }
 },
 "nbformat": 4,
 "nbformat_minor": 2
}
