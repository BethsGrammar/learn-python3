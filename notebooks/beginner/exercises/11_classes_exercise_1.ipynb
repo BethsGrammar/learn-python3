{
 "cells": [
  {
   "cell_type": "markdown",
   "metadata": {},
   "source": [
    "# 1. Fill the missing pieces of the `Bird` class\n",
    "Fill `____` pieces of the `Bird` implemention in order to pass the assertions."
   ]
  },
  {
   "cell_type": "code",
   "execution_count": null,
   "metadata": {},
   "outputs": [],
   "source": [
    "class ____:\n",
    "\n",
    "    type = ____\n",
    "    def __init__(____, given_name, ____):\n",
    "        self.____ = given_name\n",
    "        self.____ = _____\n",
    "\n",
    "polly = Bird(\"Polly\", _____)\n",
    "_____ = _____(\"Tweety\", 7)\n",
    "_____ = _____(_____, _____)"
   ]
  },
  {
   "cell_type": "code",
   "execution_count": null,
   "metadata": {
    "editable": false
   },
   "outputs": [],
   "source": [
    "assert polly.age == 6\n",
    "assert tweety.name == \"Tweety\""
   ]
  },
  {
   "cell_type": "markdown",
   "metadata": {},
   "source": [
    "# 2. Create a `Humanoid` class\n",
    "- Fill `____` piece/s. \n",
    "- attributes should include:\n",
    "   1. name\n",
    "   2. alias\n",
    "   3. strength\n",
    "   4. speed\n",
    "   5. can_fly (must be a boolean value)"
   ]
  },
  {
   "cell_type": "code",
   "execution_count": null,
   "metadata": {},
   "outputs": [],
   "source": [
    "class ____:\n",
    "    \n",
    "    ____ = ____\n",
    "\n",
    "    def ____(____, ____ ...):\n",
    "        self.____ = ____\n",
    "        ...\n",
    "        self.can_fly = ____\n",
    "    \n",
    "    def info(self):\n",
    "        return f\"{self.name}'s real name is {self.alias}. He has strength of {self.strength} and speed of {self.speed}\"\n",
    "        \n"
   ]
  },
  {
   "cell_type": "markdown",
   "metadata": {},
   "source": [
    "### Instatiate objects\n",
    "Now instatiate some superheroes!\n",
    "One is done for you. You must instantiate Batman and The Flash.\n",
    "\n",
    "Batman's Alias is `Bruce Wayne`, he has a speed of `2`, strength of `3` and can't fly.\n",
    "\n",
    "The Flash's Alias is `Barry Allen`, he has a speed of `9`, strength of `6` and can't fly. "
   ]
  },
  {
   "cell_type": "code",
   "execution_count": null,
   "metadata": {
    "editable": false
   },
   "outputs": [],
   "source": [
    "batman = ____\n",
    "superman = Humanoid(\"Superman\", \"Clark Kent\", 10,10,True)\n",
    "flash = ____"
   ]
  },
  {
   "cell_type": "markdown",
   "metadata": {},
   "source": [
    "# 3. Instance methods\n",
    "The above class already has an instance method called `info`. This returns some information about the object.\n",
    "\n",
    "Edit the above class creating another method called `flight` which returns if the object can fly or not as a string.\n",
    "\n",
    "eg `\"<name> can fly\"` or `\"<name> can't fly\"`."
   ]
  },
  {
   "cell_type": "code",
   "execution_count": null,
   "metadata": {},
   "outputs": [],
   "source": [
    "assert batman.flight() == \"Batman can't fly\""
   ]
  },
  {
   "cell_type": "markdown",
   "metadata": {},
   "source": [
    "# 4. Who's faster?\n",
    "Objects can speak to one another!\n",
    "\n",
    "Edit the above class Creating a method called `fastest()` that takes an argument of another object and checks if the given object is faster than itself.\n",
    "\n",
    "It must return a string which states:\n",
    "\n",
    "`\"I, <name> am not faster than <given_object.name>.\"` Or `\"I, <name> am faster than <given_object.name>.\"`"
   ]
  },
  {
   "cell_type": "code",
   "execution_count": null,
   "metadata": {
    "editable": false
   },
   "outputs": [],
   "source": [
    "assert flash.fastest(superman) == \"I, Flash am not faster than Superman.\"\n",
    "assert superman.fastest(flash) == \"I, Superman am faster than Flash.\""
   ]
  }
 ],
 "metadata": {
  "kernelspec": {
   "display_name": "Python 3 (ipykernel)",
   "language": "python",
   "name": "python3"
  },
  "language_info": {
   "codemirror_mode": {
    "name": "ipython",
    "version": 3
   },
   "file_extension": ".py",
   "mimetype": "text/x-python",
   "name": "python",
   "nbconvert_exporter": "python",
   "pygments_lexer": "ipython3",
   "version": "3.11.0"
  }
 },
 "nbformat": 4,
 "nbformat_minor": 2
}
