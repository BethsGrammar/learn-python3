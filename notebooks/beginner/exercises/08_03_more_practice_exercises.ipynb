{
 "cells": [
  {
   "cell_type": "markdown",
   "metadata": {},
   "source": [
    "# Load the animated Films CSV\n",
    "Run the block of code below"
   ]
  },
  {
   "cell_type": "code",
   "execution_count": null,
   "metadata": {},
   "outputs": [],
   "source": [
    "import csv, requests\n",
    "from io import StringIO\n",
    "\n",
    "file_url = requests.get(\"https://raw.githubusercontent.com/BethsGrammar/learn-python3/refs/heads/master/notebooks/beginner/exercises/assets/animated_films.csv\")\n",
    "content = file_url.text\n",
    "\n",
    "file = csv.reader(StringIO(content), delimiter=\",\")"
   ]
  },
  {
   "cell_type": "markdown",
   "metadata": {},
   "source": [
    "## 1. print the data from the rows below"
   ]
  },
  {
   "cell_type": "code",
   "execution_count": null,
   "metadata": {
    "editable": false
   },
   "outputs": [],
   "source": [
    "# your code here\n"
   ]
  },
  {
   "cell_type": "markdown",
   "metadata": {},
   "source": [
    "## 2. create a Pandas data frame\n",
    "Use slides 13-19 for help\n",
    "\n",
    "Create & print a table for the animations_films.csv\n",
    "\n",
    "The headings are:\n",
    "Film title, Release date, Studio, Worldwide Gross, Domestic Gross\n"
   ]
  },
  {
   "cell_type": "code",
   "execution_count": null,
   "metadata": {},
   "outputs": [],
   "source": [
    "import pandas as pd\n",
    "url = \"https://raw.githubusercontent.com/BethsGrammar/learn-python3/refs/heads/master/notebooks/beginner/exercises/assets/animated_films.csv\"\n",
    "# I have helped you import the file here\n",
    "films = StringIO(requests.get(url).text)\n",
    "\n",
    "# your implementation here - Edit the line below\n",
    "table = pd.read_csv(films)\n",
    "print(table)\n",
    "\n"
   ]
  },
  {
   "cell_type": "markdown",
   "metadata": {},
   "source": [
    "## 3. Sort the data frame\n",
    "Sort the data using the example on slide 21 so that the data is in order of largest to smallest based on domestic gross"
   ]
  },
  {
   "cell_type": "code",
   "execution_count": null,
   "metadata": {},
   "outputs": [],
   "source": [
    "# your code here\n"
   ]
  },
  {
   "cell_type": "code",
   "execution_count": null,
   "metadata": {},
   "outputs": [],
   "source": [
    "assert table_sorted.values[0][0] == \"Shrek 2\""
   ]
  }
 ],
 "metadata": {
  "kernelspec": {
   "display_name": "Python 3",
   "language": "python",
   "name": "python3"
  },
  "language_info": {
   "codemirror_mode": {
    "name": "ipython",
    "version": 3
   },
   "file_extension": ".py",
   "mimetype": "text/x-python",
   "name": "python",
   "nbconvert_exporter": "python",
   "pygments_lexer": "ipython3",
   "version": "3.12.4"
  }
 },
 "nbformat": 4,
 "nbformat_minor": 2
}
