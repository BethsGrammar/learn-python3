{
 "cells": [
  {
   "cell_type": "markdown",
   "metadata": {},
   "source": [
    "# Concatenation \n",
    "Complete the tasks below remembering to add spaces where required."
   ]
  },
  {
   "cell_type": "markdown",
   "metadata": {},
   "source": [
    "### Creating a full name"
   ]
  },
  {
   "cell_type": "code",
   "execution_count": null,
   "metadata": {},
   "outputs": [],
   "source": [
    "first_name = \"John\"\n",
    "last_name = \"Doe\"\n",
    "\n",
    "full_name = _____\n",
    "\n",
    "print(full_name)"
   ]
  },
  {
   "cell_type": "code",
   "execution_count": null,
   "metadata": {},
   "outputs": [],
   "source": [
    "assert full_name == \"John Doe\""
   ]
  },
  {
   "cell_type": "markdown",
   "metadata": {},
   "source": [
    "### Combining sentences"
   ]
  },
  {
   "cell_type": "code",
   "execution_count": null,
   "metadata": {},
   "outputs": [],
   "source": [
    "sentence1 = \"The cat\"\n",
    "sentence2 = \"sat on the mat\"\n",
    "\n",
    "combined_sentence = ______\n",
    "\n",
    "print(combined_sentence)  # Output: The cat sat on the mat"
   ]
  },
  {
   "cell_type": "code",
   "execution_count": null,
   "metadata": {},
   "outputs": [],
   "source": [
    "assert combined_sentence == \"The cat sat on the mat\""
   ]
  },
  {
   "cell_type": "markdown",
   "metadata": {},
   "source": [
    "### Creating a file path"
   ]
  },
  {
   "cell_type": "code",
   "execution_count": null,
   "metadata": {},
   "outputs": [],
   "source": [
    "directory = \"Documents\"\n",
    "file_name = \"report.txt\"\n",
    "\n",
    "file_path = _____ + \"/\" + ______\n",
    "\n",
    "print(file_path)"
   ]
  },
  {
   "cell_type": "code",
   "execution_count": null,
   "metadata": {},
   "outputs": [],
   "source": [
    "assert file_path == \"Documents/report.txt\""
   ]
  },
  {
   "cell_type": "markdown",
   "metadata": {},
   "source": [
    "### Building a URL"
   ]
  },
  {
   "cell_type": "code",
   "execution_count": null,
   "metadata": {},
   "outputs": [],
   "source": [
    "domain = \"codefez.githu.io\"\n",
    "directory = \"page\"\n",
    "page = \"python_cheatsheet.html\"\n",
    "\n",
    "url = \"https://\" + domain + \"/\" + directory + \"/\" + page\n",
    "\n",
    "print(url) "
   ]
  },
  {
   "cell_type": "code",
   "execution_count": null,
   "metadata": {},
   "outputs": [],
   "source": [
    "assert url == \"https://codefez.github.io/page/python_cheatsheet.html\""
   ]
  },
  {
   "cell_type": "markdown",
   "metadata": {},
   "source": [
    "### Creating a username"
   ]
  },
  {
   "cell_type": "code",
   "execution_count": null,
   "metadata": {},
   "outputs": [],
   "source": [
    "adjective = \"trolling\"\n",
    "noun = \"thunder\"\n",
    "username = _____ # combine dem init?"
   ]
  },
  {
   "cell_type": "code",
   "execution_count": null,
   "metadata": {},
   "outputs": [],
   "source": [
    "assert username == \"trollingthunder\""
   ]
  },
  {
   "cell_type": "markdown",
   "metadata": {},
   "source": [
    "## Joining and Casting\n",
    "\n",
    "Python can only handle 1 type of object at a time when joining them together.\n",
    "\n",
    "```name, username, join_date = \"Josh\", \"trollingthunder\", \"2024\"\n",
    "\n",
    "print(name + \" \" + username)  ✔️\n",
    "\n",
    "print(name + \" \" + join_date)   ❌😵\n",
    "```\n",
    "\n",
    "Cast objects to a string using `str()`\n",
    "Cast objects to an integer using `int()`\n",
    "Cast objects to a float using `float()`"
   ]
  },
  {
   "cell_type": "markdown",
   "metadata": {},
   "source": [
    "### calculate total price\n"
   ]
  },
  {
   "cell_type": "code",
   "execution_count": null,
   "metadata": {},
   "outputs": [],
   "source": [
    "item_price = 15.99\n",
    "tax_rate = 0.08\n",
    "\n",
    "total_price = ______(item_price) + \" + \" + ______(tax_rate) + \" = \" + ______(item_price * (1 + tax_rate))\n",
    "\n",
    "print(total_price) "
   ]
  },
  {
   "cell_type": "code",
   "execution_count": null,
   "metadata": {},
   "outputs": [],
   "source": [
    "assert total_price == \"15.99 + 0.08 = 17.2692\""
   ]
  },
  {
   "cell_type": "markdown",
   "metadata": {},
   "source": [
    "### creating a message with a number"
   ]
  },
  {
   "cell_type": "code",
   "execution_count": null,
   "metadata": {},
   "outputs": [],
   "source": [
    "message = \"You have \" + ______(5) + \" new messages.\"\n",
    "\n",
    "print(message)"
   ]
  },
  {
   "cell_type": "code",
   "execution_count": null,
   "metadata": {},
   "outputs": [],
   "source": [
    "assert message == \"You have 5 new messages.\""
   ]
  },
  {
   "cell_type": "markdown",
   "metadata": {},
   "source": [
    "### Displaying a Date"
   ]
  },
  {
   "cell_type": "code",
   "execution_count": null,
   "metadata": {},
   "outputs": [],
   "source": [
    "year = 2023\n",
    "month = 12\n",
    "day = 25\n",
    "\n",
    "date = _____(day) + \"/\" + _____(month) + \"/\" + _____(year)\n",
    "\n",
    "print(date)"
   ]
  },
  {
   "cell_type": "code",
   "execution_count": null,
   "metadata": {},
   "outputs": [],
   "source": [
    "assert date == \"25/12/2023\""
   ]
  },
  {
   "cell_type": "markdown",
   "metadata": {},
   "source": [
    "### Creating a filename with a timestamp\n",
    "\n",
    "cast the time as an integer, then cast it to a string"
   ]
  },
  {
   "cell_type": "code",
   "execution_count": null,
   "metadata": {},
   "outputs": [],
   "source": [
    "import time\n",
    "\n",
    "timestamp = time.time()\n",
    "file_name = \"data_\" + ______( _____ (timestamp)) + \".txt\"\n",
    "\n",
    "print(file_name) "
   ]
  },
  {
   "cell_type": "code",
   "execution_count": null,
   "metadata": {},
   "outputs": [],
   "source": [
    "assert file_name.startswith(\"data_\") and file_name.endswith(\".txt\")"
   ]
  },
  {
   "cell_type": "markdown",
   "metadata": {},
   "source": [
    "### Combining text and %"
   ]
  },
  {
   "cell_type": "code",
   "execution_count": null,
   "metadata": {},
   "outputs": [],
   "source": [
    "percentage = 75\n",
    "\n",
    "message = \"Completion: \" + _____(percentage) + \"%\"\n",
    "\n",
    "print(message) "
   ]
  },
  {
   "cell_type": "code",
   "execution_count": null,
   "metadata": {},
   "outputs": [],
   "source": [
    "assert message == \"Completion: 75%\""
   ]
  },
  {
   "cell_type": "markdown",
   "metadata": {},
   "source": [
    "### Convert decimal input to percentage"
   ]
  },
  {
   "cell_type": "code",
   "execution_count": null,
   "metadata": {},
   "outputs": [],
   "source": [
    "decimal = _____(input(\"Enter decimal amount between 0.01 - 1\"))\n",
    "percentage = decimal * 100\n",
    "print(\"Amount in percent is \" + _____(decimal) + \".\")"
   ]
  },
  {
   "cell_type": "code",
   "execution_count": null,
   "metadata": {},
   "outputs": [],
   "source": [
    "assert 0.01 <= decimal <= 1, \"Decimal must be between 0.01 and 1.\"\n",
    "assert 0 <= percentage <= 100, \"Calculated percentage is out of range.\""
   ]
  }
 ],
 "metadata": {
  "language_info": {
   "name": "python"
  }
 },
 "nbformat": 4,
 "nbformat_minor": 2
}
