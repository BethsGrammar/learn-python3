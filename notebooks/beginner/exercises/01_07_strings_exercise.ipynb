{
 "cells": [
  {
   "cell_type": "markdown",
   "metadata": {},
   "source": [
    "# 1. Fill missing pieces\n",
    "Fill `____` pieces below to have correct values for `lower_cased`, `stripped` and `stripped_lower_case` variables."
   ]
  },
  {
   "cell_type": "code",
   "execution_count": null,
   "metadata": {},
   "outputs": [],
   "source": [
    "original = \" Python strings are COOL! \"\n",
    "lower_cased = original._____\n",
    "stripped = ____.strip()\n",
    "stripped_lower_cased = original._____._____"
   ]
  },
  {
   "cell_type": "markdown",
   "metadata": {},
   "source": [
    "Let's verify that the implementation is correct by running the cell below. `assert` will raise `AssertionError` if the statement is not true.  "
   ]
  },
  {
   "cell_type": "code",
   "execution_count": null,
   "metadata": {
    "editable": false
   },
   "outputs": [],
   "source": [
    "assert lower_cased == \" python strings are cool! \"\n",
    "assert stripped == \"Python strings are COOL!\"\n",
    "assert stripped_lower_cased == \"python strings are cool!\""
   ]
  },
  {
   "cell_type": "markdown",
   "metadata": {},
   "source": [
    "# 2. Prettify ugly string\n",
    "Use `str` methods to convert `ugly` to wanted `pretty`."
   ]
  },
  {
   "cell_type": "code",
   "execution_count": null,
   "metadata": {
    "editable": false
   },
   "outputs": [],
   "source": [
    "ugly = \" tiTle of MY new Book\\n\\n\""
   ]
  },
  {
   "cell_type": "code",
   "execution_count": null,
   "metadata": {},
   "outputs": [],
   "source": [
    "# Your implementation:\n",
    "pretty = \"TODO\""
   ]
  },
  {
   "cell_type": "markdown",
   "metadata": {},
   "source": [
    "Let's make sure that it does what we want. `assert` raises [`AssertionError`](https://docs.python.org/3/library/exceptions.html#AssertionError) if the statement is not `True`."
   ]
  },
  {
   "cell_type": "code",
   "execution_count": null,
   "metadata": {
    "editable": false
   },
   "outputs": [],
   "source": [
    "print(f\"pretty: {pretty}\")\n",
    "assert pretty == \"Title Of My New Book\""
   ]
  },
  {
   "cell_type": "markdown",
   "metadata": {},
   "source": [
    "# 3. Format string based on existing variables\n",
    "Create `sentence` by using `verb`, `language`, and `punctuation` and any other strings you may need."
   ]
  },
  {
   "cell_type": "code",
   "execution_count": null,
   "metadata": {
    "editable": false
   },
   "outputs": [],
   "source": [
    "verb = \"is\"\n",
    "language = \"Python\"\n",
    "punctuation = \"!\""
   ]
  },
  {
   "cell_type": "code",
   "execution_count": null,
   "metadata": {},
   "outputs": [],
   "source": [
    "# Your implementation:\n",
    "sentence = \"TODO\""
   ]
  },
  {
   "cell_type": "code",
   "execution_count": null,
   "metadata": {
    "editable": false
   },
   "outputs": [],
   "source": [
    "print(f\"sentence: {sentence}\")\n",
    "assert sentence == \"Learning Python is fun!\""
   ]
  },
  {
   "cell_type": "markdown",
   "metadata": {},
   "source": [
    "# 4 Formatting & working out percentage\n",
    "Sarah and friends are having a meal at Tapas Revolution. Use the `round()` function to reduce the output to 2 decimal places"
   ]
  },
  {
   "cell_type": "code",
   "execution_count": null,
   "metadata": {},
   "outputs": [],
   "source": [
    "meal = 40\n",
    "split = 3\n",
    "total_each = meal / split\n",
    "print(\"Each person will pay £{total_each}.\")"
   ]
  },
  {
   "cell_type": "code",
   "execution_count": null,
   "metadata": {},
   "outputs": [],
   "source": [
    "assert total_each == 13.33"
   ]
  },
  {
   "cell_type": "markdown",
   "metadata": {},
   "source": [
    "The restuarant adds a 10% service charge to meals but a 5% service charge if meals are over £100\n",
    "Now work out the percentage of service charge for the meal below."
   ]
  },
  {
   "cell_type": "code",
   "execution_count": null,
   "metadata": {},
   "outputs": [],
   "source": [
    "meal = 112.30\n",
    "split = 3\n",
    "if _____ > 100:\n",
    "    sc = _____\n",
    "_____:\n",
    "    sc = _____\n",
    "total_each = (meal + sc) / split\n",
    "print(\"Each person will pay £{total_each}.\")\n",
    "print(\"The service charge is {sc}\")"
   ]
  }
 ],
 "metadata": {
  "kernelspec": {
   "display_name": "Python 3",
   "language": "python",
   "name": "python3"
  },
  "language_info": {
   "codemirror_mode": {
    "name": "ipython",
    "version": 3
   },
   "file_extension": ".py",
   "mimetype": "text/x-python",
   "name": "python",
   "nbconvert_exporter": "python",
   "pygments_lexer": "ipython3",
   "version": "3.12.4"
  }
 },
 "nbformat": 4,
 "nbformat_minor": 1
}
