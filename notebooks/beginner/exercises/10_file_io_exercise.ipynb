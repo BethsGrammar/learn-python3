{
 "cells": [
  {
   "cell_type": "markdown",
   "metadata": {},
   "source": [
    "# 1. writing text to a file\n",
    "Fill ____ pieces of the code below to add another song to the example."
   ]
  },
  {
   "cell_type": "code",
   "execution_count": null,
   "metadata": {},
   "outputs": [],
   "source": [
    "file = open(\"assets/mj_songs.txt\", \"w\")\n",
    "file.write(\"Smooth Criminal\")\n",
    "____\n",
    "file.close()"
   ]
  },
  {
   "cell_type": "code",
   "execution_count": null,
   "metadata": {
    "editable": false
   },
   "outputs": [],
   "source": [
    "with open(\"assets/mj_songs.txt\", \"r\") as file:\n",
    "    data = file.read()\n",
    "\n",
    "print(data)\n",
    "assert len(data) > 15, f\"❌ I expected another great song addition\""
   ]
  },
  {
   "cell_type": "markdown",
   "metadata": {},
   "source": [
    "# 2. Write to new lines\n",
    "In the previous task you learned to add text to a file in Python. The problem is that all the text appeared on one line. You can change that by adding `\\n` to your text!\n",
    "\n",
    "`file.write(\"Smooth Criminal\\n\")`\n",
    "\n",
    "Make the necessary changes to your code above"
   ]
  },
  {
   "cell_type": "code",
   "execution_count": null,
   "metadata": {},
   "outputs": [],
   "source": [
    "\n",
    "with open(\"assets/mj_songs.txt\", \"r\") as file:\n",
    "    fileLength =  len(list(file))\n",
    "    data = file.read()\n",
    "\n",
    "print(data)\n",
    "assert fileLength >= 2, f\"❌ Expected more lines in your output\""
   ]
  },
  {
   "cell_type": "markdown",
   "metadata": {},
   "source": [
    "# 3. Readlines\n",
    "Open the file called `oasis_songs` from within the `assets` folder and read the file using `readlines()` into a variable called `songs`"
   ]
  },
  {
   "cell_type": "code",
   "execution_count": null,
   "metadata": {
    "editable": false
   },
   "outputs": [],
   "source": [
    "# Do you thing here!\n"
   ]
  },
  {
   "cell_type": "code",
   "execution_count": null,
   "metadata": {},
   "outputs": [],
   "source": [
    "assert songs == ['Wonderwall\\n', \"Don't Look Back in Anger\\n\", 'Roll With It\\n', 'Champagne Supernova']"
   ]
  },
  {
   "cell_type": "markdown",
   "metadata": {},
   "source": [
    "# 4. Sum numbers listed in a file\n",
    "Fill ____ pieces of the code below. `sum_numbers_in_file` function takes a input file path as argument, reads the numbers listed in the input file and returns the sum of those numbers. You can assume that each line contains exactly one numeric value."
   ]
  },
  {
   "cell_type": "code",
   "execution_count": null,
   "metadata": {},
   "outputs": [],
   "source": [
    "def sum_numbers_in_file(give_filepath):\n",
    "    total = 0\n",
    "    with ____(give_filepath) as ____:\n",
    "        for line in ____:\n",
    "            ____ = line.strip()  # Remove potential white space\n",
    "            total += float(____)\n",
    "    return _____"
   ]
  },
  {
   "cell_type": "code",
   "execution_count": null,
   "metadata": {},
   "outputs": [],
   "source": [
    "filepath = \"assets/numbers.txt\"\n",
    "assert sum_numbers_in_file(filepath) == 189.5, f\"❌ Your maths is all wrong bro!\""
   ]
  }
 ],
 "metadata": {
  "celltoolbar": "Edit Metadata",
  "kernelspec": {
   "display_name": "Python 3",
   "language": "python",
   "name": "python3"
  },
  "language_info": {
   "codemirror_mode": {
    "name": "ipython",
    "version": 3
   },
   "file_extension": ".py",
   "mimetype": "text/x-python",
   "name": "python",
   "nbconvert_exporter": "python",
   "pygments_lexer": "ipython3",
   "version": "3.12.4"
  }
 },
 "nbformat": 4,
 "nbformat_minor": 2
}
