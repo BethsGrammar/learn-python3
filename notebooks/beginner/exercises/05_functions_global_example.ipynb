{
 "cells": [
  {
   "cell_type": "markdown",
   "metadata": {},
   "source": [
    "# Global Variables\n",
    "Variables inside a function cannot be seen or read outside of a function while changes made inside of a function are not effected globally."
   ]
  },
  {
   "cell_type": "code",
   "execution_count": null,
   "metadata": {},
   "outputs": [],
   "source": [
    "a=10\n",
    "b=5\n",
    "\n",
    "def change():\n",
    "  a=5\n",
    "  c=\"hello\"\n",
    "  return a\n",
    "\n",
    "print(change())\n",
    "print(a)\n",
    "print(c)"
   ]
  },
  {
   "cell_type": "markdown",
   "metadata": {},
   "source": [
    "This can be fixed by adding assigning variables inside a function as `global`.\n",
    "\n",
    "This is not really recommended and should be avoided where not necessary. "
   ]
  },
  {
   "cell_type": "code",
   "execution_count": null,
   "metadata": {},
   "outputs": [],
   "source": [
    "a=10\n",
    "b=5\n",
    "\n",
    "def change():\n",
    "  global c, a\n",
    "  a=5\n",
    "  c=\"hello\"\n",
    "  return a\n",
    "\n",
    "print(change())\n",
    "print(a)\n",
    "print(c)"
   ]
  }
 ],
 "metadata": {
  "kernelspec": {
   "display_name": "Python 3 (ipykernel)",
   "language": "python",
   "name": "python3"
  },
  "language_info": {
   "codemirror_mode": {
    "name": "ipython",
    "version": 3
   },
   "file_extension": ".py",
   "mimetype": "text/x-python",
   "name": "python",
   "nbconvert_exporter": "python",
   "pygments_lexer": "ipython3",
   "version": "3.11.0"
  }
 },
 "nbformat": 4,
 "nbformat_minor": 2
}
