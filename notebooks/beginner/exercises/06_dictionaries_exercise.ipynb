{
 "cells": [
  {
   "cell_type": "markdown",
   "metadata": {},
   "source": [
    "# 1a. Populating a dictionary\n",
    "Create a dictionary by using all the given variables."
   ]
  },
  {
   "cell_type": "code",
   "execution_count": null,
   "metadata": {
    "editable": false
   },
   "outputs": [],
   "source": [
    "first_name = \"John\"\n",
    "last_name = \"Doe\"\n",
    "favorite_hobby = \"Python\"\n",
    "sports_hobby = \"gym\"\n",
    "age = 82"
   ]
  },
  {
   "cell_type": "code",
   "execution_count": null,
   "metadata": {},
   "outputs": [],
   "source": [
    "# Your implementation\n",
    "my_dict = "
   ]
  },
  {
   "cell_type": "code",
   "execution_count": null,
   "metadata": {
    "editable": false
   },
   "outputs": [],
   "source": [
    "assert my_dict == {\"name\": \"John Doe\", \"age\": 82, \"hobbies\": [\"Python\", \"gym\"]}"
   ]
  },
  {
   "cell_type": "markdown",
   "metadata": {},
   "source": [
    "# 1b. Continue working on LexiFez \n",
    "\n",
    "The code below has some missing blanks and data which should be used to populate the dictionary below."
   ]
  },
  {
   "cell_type": "code",
   "execution_count": null,
   "metadata": {},
   "outputs": [],
   "source": [
    "# data 1\n",
    "language = \"Yoruba\"\n",
    "word = \"money\"\n",
    "answer=\"owo\"\n",
    "wrong_answers = [\"igi\", \"òkun\", \"ẹgbọ́n ọkùnrin\"]\n",
    "\n",
    "# data 2\n",
    "language = \"Urdu\"\n",
    "word = \"heart\"\n",
    "answer=\"دل\"\n",
    "wrong_answers = [\"iپینٹ\", \"قمیض\", \"ٹوپی\"]"
   ]
  },
  {
   "cell_type": "code",
   "execution_count": null,
   "metadata": {},
   "outputs": [],
   "source": [
    "words = {\n",
    "    0:{\n",
    "        \"language\":\"Azerbaijani\",\n",
    "        \"word\":\"hat\",\n",
    "        \"answer\":\"papaq\",\n",
    "        \"wrong\":[\"qardaş\", \"şalvar\", \"gül\"]\n",
    "        },\n",
    "    1:{\n",
    "        \"language\":_____,\n",
    "        _____:_____,\n",
    "        \"answer\":_____,\n",
    "        _____:_____\n",
    "        },\n",
    "    2:{\n",
    "        _____\n",
    "    }\n",
    "}"
   ]
  },
  {
   "cell_type": "code",
   "execution_count": null,
   "metadata": {},
   "outputs": [],
   "source": [
    "assert words[0][\"wrong\"][2] == \"gül\"\n",
    "assert words[1][\"language\"] == \"Yoruba\"\n",
    "assert words[1][\"wrong\"][1] == \"òku\"\n",
    "assert words[2][\"word\"] == \"heart\"\n",
    "assert words[2][\"answer\"] == \"دل\""
   ]
  },
  {
   "cell_type": "markdown",
   "metadata": {},
   "source": [
    "# 2. Accessing and merging dictionaries\n",
    "## 2.1\n",
    "Using the `update` method add the following data to the `words` dictionary."
   ]
  },
  {
   "cell_type": "code",
   "execution_count": null,
   "metadata": {},
   "outputs": [],
   "source": [
    "{3:{\n",
    "    \"language\":\"Ottoman Turkish\",\n",
    "    \"word\":\"trash\",\n",
    "    \"answer\":\"چوپ\",\n",
    "    \"wrong\":[\"اشّك\", \"یاتاق \", \"چیچك\"]\n",
    "}}\n",
    "\n",
    "# Your implementation\n",
    "words = ____"
   ]
  },
  {
   "cell_type": "code",
   "execution_count": null,
   "metadata": {},
   "outputs": [],
   "source": [
    "assert words[3][\"word\"] == \"trash\"\n",
    "assert words[3][\"answer\"] == \"چوپ\""
   ]
  },
  {
   "cell_type": "markdown",
   "metadata": {},
   "source": [
    "## 2.2\n",
    "Combine `dict1`, `dict2`, and `dict3` into `my_dict`. In addition, get the value of `special_key` from `my_dict` into a `special_value` variable. Note that original dictionaries should stay untouched and `special_key` should be removed from `my_dict`."
   ]
  },
  {
   "cell_type": "code",
   "execution_count": null,
   "metadata": {
    "editable": false
   },
   "outputs": [],
   "source": [
    "dict1 = dict(key1=\"This is not that hard\", key2=\"Python is still cool\")\n",
    "dict2 = {\"key1\": 123, \"special_key\": \"secret\"}\n",
    "# This is also a away to initialize a dict (list of tuples)\n",
    "dict3 = dict([(\"key2\", 456), (\"keyX\", \"X\")])"
   ]
  },
  {
   "cell_type": "code",
   "execution_count": null,
   "metadata": {},
   "outputs": [],
   "source": [
    "# 'Your impelementation'\n",
    "my_dict = \n",
    "special_value = "
   ]
  },
  {
   "cell_type": "code",
   "execution_count": null,
   "metadata": {
    "editable": false
   },
   "outputs": [],
   "source": [
    "assert my_dict == {\"key1\": 123, \"key2\": 456, \"keyX\": \"X\"}\n",
    "assert special_value == \"secret\"\n",
    "\n",
    "# Let's check that the originals are untouched\n",
    "assert dict1 == {\"key1\": \"This is not that hard\", \"key2\": \"Python is still cool\"}\n",
    "assert dict2 == {\"key1\": 123, \"special_key\": \"secret\"}\n",
    "assert dict3 == {\"key2\": 456, \"keyX\": \"X\"}"
   ]
  },
  {
   "cell_type": "markdown",
   "metadata": {},
   "source": [
    "# 3. displaying/accessing an item\n",
    "Looking at the example on the first line of code below, complete the rest of the code."
   ]
  },
  {
   "cell_type": "code",
   "execution_count": null,
   "metadata": {},
   "outputs": [],
   "source": [
    "print(f\"\"\"\n",
    "      One of the following words means {words[0][\"word\"]} \n",
    "      in the language of {words[0][\"language\"]}.\n",
    "\"\"\")\n",
    "\n",
    "output = f\"\"\"\n",
    "    a: {words[0][\"wrong\"][0]}\n",
    "    b: {_____[1]}\n",
    "    c: {words[0][\"answer\"]}\n",
    "    d: {_____[2]}\n",
    " \"\"\""
   ]
  },
  {
   "cell_type": "code",
   "execution_count": null,
   "metadata": {},
   "outputs": [],
   "source": [
    "assert output == \"\"\"\n",
    "    a: igi\n",
    "    b: owo\n",
    "    c: òkun\n",
    "    d: ẹgbọ́n ọkùnrin\n",
    " \"\"\""
   ]
  },
  {
   "cell_type": "markdown",
   "metadata": {},
   "source": [
    "# 4. re-assigning a value\n",
    "Re-assign the correct word in Ottoman Turkish from *trash* to *duck*."
   ]
  },
  {
   "cell_type": "code",
   "execution_count": null,
   "metadata": {},
   "outputs": [],
   "source": [
    "new_word = \"اوردك\"\n",
    "# Your implementation here"
   ]
  },
  {
   "cell_type": "code",
   "execution_count": null,
   "metadata": {},
   "outputs": [],
   "source": [
    "assert words[3][\"word\"] == \"duck\"\n",
    "assert words[3][\"answer\"] == \"اوردك\""
   ]
  },
  {
   "cell_type": "markdown",
   "metadata": {},
   "source": [
    "# 5. Loading data from JSON files\n",
    "Data on the web can be in the form of JSON (JavaScript Object Notation). This is similar to a dictionary but the datatypes needs translating into Python datatypes. \n",
    "\n",
    "We can import this data into Python using the `json` module."
   ]
  },
  {
   "cell_type": "code",
   "execution_count": 2,
   "metadata": {},
   "outputs": [
    {
     "name": "stdout",
     "output_type": "stream",
     "text": [
      "[{'first_name': 'Fulton', 'surname': 'Castro', 'dob': '16/12/97', 'shooting': 15, 'passing': 16, 'tackling': 14, 'skill': 20}, {'first_name': 'Cedric', 'surname': 'Patton', 'dob': '02/04/00', 'shooting': 4, 'passing': 12, 'tackling': 1, 'skill': 15}, {'first_name': 'Norman', 'surname': 'Eaton', 'dob': '24/06/98', 'shooting': 4, 'passing': 6, 'tackling': 10, 'skill': 6}, {'first_name': 'Bernard', 'surname': 'Townsend', 'dob': '05/04/99', 'shooting': 6, 'passing': 4, 'tackling': 11, 'skill': 2}, {'first_name': 'Zeus', 'surname': 'Dillon', 'dob': '14/04/98', 'shooting': 16, 'passing': 9, 'tackling': 16, 'skill': 1}, {'first_name': 'Conan', 'surname': 'Rutledge', 'dob': '10/02/98', 'shooting': 7, 'passing': 4, 'tackling': 4, 'skill': 18}, {'first_name': 'Erich', 'surname': 'Carpenter', 'dob': '09/04/02', 'shooting': 10, 'passing': 18, 'tackling': 7, 'skill': 7}, {'first_name': 'Nigel', 'surname': 'Gillespie', 'dob': '26/02/97', 'shooting': 15, 'passing': 17, 'tackling': 10, 'skill': 6}, {'first_name': 'Zahir', 'surname': 'George', 'dob': '07/03/04', 'shooting': 4, 'passing': 16, 'tackling': 19, 'skill': 17}, {'first_name': 'Chase', 'surname': 'York', 'dob': '29/02/00', 'shooting': 16, 'passing': 13, 'tackling': 9, 'skill': 14}, {'first_name': 'Leo', 'surname': 'King', 'dob': '04/06/97', 'shooting': 13, 'passing': 12, 'tackling': 2, 'skill': 17}, {'first_name': 'Keane', 'surname': 'Atkins', 'dob': '02/01/03', 'shooting': 15, 'passing': 19, 'tackling': 9, 'skill': 6}, {'first_name': 'Ryan', 'surname': 'Benson', 'dob': '06/11/97', 'shooting': 3, 'passing': 2, 'tackling': 3, 'skill': 19}, {'first_name': 'Dorian', 'surname': 'Romero', 'dob': '21/03/00', 'shooting': 4, 'passing': 7, 'tackling': 20, 'skill': 11}, {'first_name': 'Cedric', 'surname': 'Gray', 'dob': '27/02/98', 'shooting': 8, 'passing': 3, 'tackling': 16, 'skill': 16}, {'first_name': 'Guy', 'surname': 'Dean', 'dob': '01/02/04', 'shooting': 13, 'passing': 20, 'tackling': 9, 'skill': 16}, {'first_name': 'Zachary', 'surname': 'Williamson', 'dob': '07/01/98', 'shooting': 14, 'passing': 11, 'tackling': 13, 'skill': 10}, {'first_name': 'Tyrone', 'surname': 'Paul', 'dob': '17/03/04', 'shooting': 5, 'passing': 9, 'tackling': 7, 'skill': 17}, {'first_name': 'Kibo', 'surname': 'Dunn', 'dob': '21/04/99', 'shooting': 3, 'passing': 18, 'tackling': 16, 'skill': 18}, {'first_name': 'Garrison', 'surname': 'Hunt', 'dob': '22/04/97', 'shooting': 11, 'passing': 5, 'tackling': 5, 'skill': 8}]\n"
     ]
    }
   ],
   "source": [
    "import json\n",
    "\n",
    "# this line opens the file from the assets \n",
    "# directory where it is stored \n",
    "with open(\"assets/players.json\", 'r') as file:\n",
    "    # This open the file and translates JSON \n",
    "    # into Python Datatypes\n",
    "    data = json.load(file)\n",
    "\n",
    "# Print the contents of the loaded JSON data\n",
    "print(data)"
   ]
  },
  {
   "cell_type": "markdown",
   "metadata": {},
   "source": [
    "## 5.1 \n",
    "print the data so that it prints each dictionary item on seperate lines. eg:\n",
    "```\n",
    "\"first_name\": \"Tyrone\",\n",
    "\"surname\": \"Paul\",\n",
    "\"dob\": \"17/03/04\",\n",
    "\"shooting\": 5,\n",
    "\"passing\": 9,\n",
    "\"tackling\": 7,\n",
    "\"skill\": 17\n",
    "```\n",
    "\n",
    "### Tip\n",
    "`dictionary_name.keys()` will print the keys of the dictionary\n",
    "`dictionary_name.values()` will print the values\n",
    "`dictionary_name.items()` will print each key:value pair together."
   ]
  },
  {
   "cell_type": "code",
   "execution_count": null,
   "metadata": {},
   "outputs": [],
   "source": [
    "# your code here\n"
   ]
  },
  {
   "cell_type": "markdown",
   "metadata": {},
   "source": [
    "#"
   ]
  }
 ],
 "metadata": {
  "celltoolbar": "Edit Metadata",
  "kernelspec": {
   "display_name": "Python 3",
   "language": "python",
   "name": "python3"
  },
  "language_info": {
   "codemirror_mode": {
    "name": "ipython",
    "version": 3
   },
   "file_extension": ".py",
   "mimetype": "text/x-python",
   "name": "python",
   "nbconvert_exporter": "python",
   "pygments_lexer": "ipython3",
   "version": "3.12.4"
  }
 },
 "nbformat": 4,
 "nbformat_minor": 1
}
