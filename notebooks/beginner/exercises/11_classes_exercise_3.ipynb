{
 "cells": [
  {
   "cell_type": "markdown",
   "metadata": {},
   "source": [
    "# 1. Fill the missing pieces of the password manager class, `URLBank`\n",
    "Fill `____` pieces of the `URLBank` implemention in order to pass the assertions."
   ]
  },
  {
   "cell_type": "code",
   "execution_count": null,
   "metadata": {},
   "outputs": [],
   "source": [
    "class ____:\n",
    "    def __init__(self, url, username, ____):\n",
    "        self.____ = url\n",
    "        ____.username = ____\n",
    "        ____.password = ____\n",
    "\n",
    "    # more methods here #\n",
    "    "
   ]
  },
  {
   "cell_type": "code",
   "execution_count": null,
   "metadata": {
    "editable": false
   },
   "outputs": [],
   "source": [
    "epic = URLBank(\"epicgames.com\", \"manlikecodefezinnit\", \"dontwatchdat!\")"
   ]
  },
  {
   "cell_type": "markdown",
   "metadata": {},
   "source": [
    "## 1.1 Writing a getter method\n",
    "Edit the class in part 1 to include a method called `check_pw` which takes an argument of a password to check if the stored password is the same. \n",
    "It will return `True` if correct and `False` otherwise."
   ]
  },
  {
   "cell_type": "code",
   "execution_count": null,
   "metadata": {},
   "outputs": [],
   "source": [
    "assert epic.check_pw(\"dontwatchdat!\") == True\n",
    "assert epic.check_pw(\"mandontknowinnit?\") == False"
   ]
  },
  {
   "cell_type": "markdown",
   "metadata": {},
   "source": [
    "## 1.2 Writing a setter method\n",
    "Edit the class in part 1 to create a setter method called `update_pw` which takes 2 arguments. The correct password and a new password.\n",
    "\n",
    "The `update_pw` method calls the `check_pw` method to make sure that the original password is `True`. If ti is correct, then it will update the password to the new given password. \n",
    "\n",
    "If sucessful, it must return the string `\"password updated sucessfully\"` otherwise it must return `\"password not updated\"`"
   ]
  },
  {
   "cell_type": "code",
   "execution_count": null,
   "metadata": {},
   "outputs": [],
   "source": [
    "assert epic.update_pw(\"dontwatchdat!\",\"newpassword123\") == \"password updated sucessfully\"\n",
    "assert epic.update_pw(\"mandontknowinnit?\",\"newpassword123\") == \"password not updated\""
   ]
  },
  {
   "cell_type": "markdown",
   "metadata": {},
   "source": [
    "# 2. Re-Create `len()` as a new class called `NewLen()`\n",
    "You're going to create a class called `NewLen()` that takes an argument and works out the length of the given object using a method called `lenn()`.\n",
    "\n",
    "For example, I should be able to use the program like this:\n",
    "\n",
    "`list_example = NewLen([1,2,4])`\n",
    "\n",
    "`print(list_example.lenn())` --> Should return 3\n",
    "\n",
    "You will be tested on returning the length of a string, a list and a dictionary.\n",
    "\n",
    "You're not allowed to use the `len()` function at all!\n",
    "\n",
    "Functions you can use:\n",
    "* `List()`\n",
    "* `type()`\n",
    "* `split()`\n",
    "* and anything else that doesn't require using `len()` to cheat! 😊"
   ]
  },
  {
   "cell_type": "code",
   "execution_count": null,
   "metadata": {},
   "outputs": [],
   "source": [
    "class NewLen():\n",
    "    # Your implementation here"
   ]
  },
  {
   "cell_type": "code",
   "execution_count": null,
   "metadata": {
    "editable": false
   },
   "outputs": [],
   "source": [
    "list_example = NewLen([1,2,3,4])\n",
    "assert list_example.lenn() == 4\n",
    "dict_example = NewLen({\"name\":\"Daniel\", \"Age\":15})\n",
    "assert dict_example.lenn() == 2\n",
    "str_example = NewLen(\"A string of several characters\")\n",
    "assert str_example.lenn() == 30\n"
   ]
  }
 ],
 "metadata": {
  "kernelspec": {
   "display_name": "Python 3",
   "language": "python",
   "name": "python3"
  },
  "language_info": {
   "codemirror_mode": {
    "name": "ipython",
    "version": 3
   },
   "file_extension": ".py",
   "mimetype": "text/x-python",
   "name": "python",
   "nbconvert_exporter": "python",
   "pygments_lexer": "ipython3",
   "version": "3.12.4"
  }
 },
 "nbformat": 4,
 "nbformat_minor": 2
}
