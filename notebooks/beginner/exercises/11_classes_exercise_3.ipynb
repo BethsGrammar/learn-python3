{
 "cells": [
  {
   "cell_type": "markdown",
   "metadata": {},
   "source": [
    "# 1. Fill the missing pieces of the `PasswordManager` class\n",
    "Fill `____` pieces of the `PasswordManager` implemention in order to pass the assertions."
   ]
  },
  {
   "cell_type": "code",
   "execution_count": null,
   "metadata": {},
   "outputs": [],
   "source": [
    "class ____:\n",
    "    def __init__(self, url, username, ____):\n",
    "        self.____ = url\n",
    "        ____.username = ____\n",
    "        ____.password = ____\n",
    "\n",
    "    def calculate_power(self):\n",
    "        return self.____**____.____\n",
    "\n",
    "    def calculate_sum(____, var3):\n",
    "        return ____.____ + ____.____ + var3"
   ]
  },
  {
   "cell_type": "code",
   "execution_count": null,
   "metadata": {
    "editable": false
   },
   "outputs": [],
   "source": [
    "calc = Calculator(2, 3)\n",
    "assert calc.calculate_power() == 8\n",
    "assert calc.calculate_sum(4) == 9"
   ]
  },
  {
   "cell_type": "markdown",
   "metadata": {},
   "source": [
    "# 2. Create `LibraryItem` class\n",
    "Create `LibraryItem` class which has the following specification:\n",
    "* Takes in the attributes `title`, `author` & `year` as a parameter.\n",
    "* The class also has an attribute called `is_checked_out` which is set to `False` by default.\n",
    "* A method called `check_out` which checks to see if an object `is_checked_out`. If False it updates the attribute to `True` and returns the statement `\"<item title> has been checked out.\"` otherwise it returns `\"<item title> is already checked out.\"`.\n",
    "* A method called `return_item` which does the opposite to `check_out` and returns `\"<item title> has been returned.\"` if it was already checked out or `\"<item title>  was not checked out.\"`.\n",
    "* Lastly, a method called `display_info` which returns `\"Title: <item title>, Author: <item author>, Year: <item year>\"`"
   ]
  },
  {
   "cell_type": "code",
   "execution_count": null,
   "metadata": {},
   "outputs": [],
   "source": [
    "class LibraryItem:\n",
    "    # Your implementation here"
   ]
  },
  {
   "cell_type": "code",
   "execution_count": null,
   "metadata": {
    "editable": false
   },
   "outputs": [],
   "source": [
    "item = LibraryItem(\"Generic Library Item\", \"Author A\", 2000)\n",
    "assert item.display_info() == \"Title: Generic Library Item, Author: Author A, Year: 2000\"\n",
    "assert item.is_checked_out == False\n",
    "item.check_out()\n",
    "assert item.is_checked_out == True\n",
    "item.return_item()\n",
    "assert item.is_checked_out == False"
   ]
  },
  {
   "cell_type": "markdown",
   "metadata": {},
   "source": [
    "# 3. Extend the LibraryItem class\n",
    "Create a new class called `Book` which inherits from `LibraryItem` and extends it by including new attributes.\n",
    "\n",
    "It should:\n",
    "* Inherit title, author, and year from LibraryItem\n",
    "* add additional attributes of `genre` and `num_pages` specific to Book\n",
    "* the `Book` class should have a method called `display_info` which returns `\"Title: <book title>, Author: <book author>, Year: <book year>, Genre: <book genre>, Number of Pages: <book num_pages>.\"` "
   ]
  },
  {
   "cell_type": "code",
   "execution_count": null,
   "metadata": {},
   "outputs": [],
   "source": [
    "class _____():\n",
    "    pass\n",
    "\n",
    "    # New method specific to Book\n",
    "    def read_sample(self):\n",
    "        return f\"Reading a sample of {self.title}...\""
   ]
  },
  {
   "cell_type": "code",
   "execution_count": null,
   "metadata": {},
   "outputs": [],
   "source": [
    "book = Book(\"The Martian\", \"Andy Weir\", 2015, \"Sci-fi\", 384)\n",
    "assert book.display_info() == \"Title: The Martian, Author: Andy Weir, Year: 2015, Genre: Sci-fi, Number of Pages: 384.\"\n",
    "book.check_out()\n",
    "assert item.is_checked_out == True\n",
    "item.return_item()\n",
    "assert item.is_checked_out == False\n",
    "book.read_sample()"
   ]
  },
  {
   "cell_type": "markdown",
   "metadata": {},
   "source": [
    "# 4. (extension task) Finalize `StringManipulator` class\n",
    "In this task you get to practice some of the skills you've learned throughout year 12 so far.\n",
    "Fill `____` pieces and create implementation for `stripped_title()`.\n",
    "\n",
    "As well as the doc string for the class which should read `\"Docstring of StringManipulator\"`, you also need to create one for the method `reverse_words` which reads `\"This method reverses the order of words of a given object string.\"`"
   ]
  },
  {
   "cell_type": "code",
   "execution_count": null,
   "metadata": {},
   "outputs": [],
   "source": [
    "class StringManipulator:\n",
    "    \"\"\"____\"\"\"\n",
    "    \n",
    "    category = ____\n",
    "    \n",
    "    def __init__(self, original):\n",
    "        self.string = ____\n",
    "        \n",
    "    def reverse_words(self):\n",
    "        words = self.string.____\n",
    "        self.string = ' '.join(reversed(____))\n",
    "        \n",
    "    def make_title(self):\n",
    "        # Create implementation for this\n",
    "        \n",
    "    def get_manipulated(____):\n",
    "        return self._____"
   ]
  },
  {
   "cell_type": "code",
   "execution_count": null,
   "metadata": {
    "editable": false
   },
   "outputs": [],
   "source": [
    "assert StringManipulator.__doc__ == \"Docstring of StringManipulator\"\n",
    "assert StringManipulator.category == \"Manipulator\"\n",
    "\n",
    "str_manip = StringManipulator(\"cOOL pyThON\")\n",
    "\n",
    "str_manip.reverse_words()\n",
    "assert str_manip.get_manipulated() == \"pyThON cOOL\"\n",
    "\n",
    "str_manip.make_title()\n",
    "assert str_manip.get_manipulated() == \"Python Cool\"\n",
    "\n",
    "assert str_manip.reverse_words.__doc__== \"This method reverses the order of words of a given object string.\""
   ]
  }
 ],
 "metadata": {
  "kernelspec": {
   "display_name": "Python 3",
   "language": "python",
   "name": "python3"
  },
  "language_info": {
   "codemirror_mode": {
    "name": "ipython",
    "version": 3
   },
   "file_extension": ".py",
   "mimetype": "text/x-python",
   "name": "python",
   "nbconvert_exporter": "python",
   "pygments_lexer": "ipython3",
   "version": "3.12.4"
  }
 },
 "nbformat": 4,
 "nbformat_minor": 2
}
