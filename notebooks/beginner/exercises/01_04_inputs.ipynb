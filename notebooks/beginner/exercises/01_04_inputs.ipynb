{
 "cells": [
  {
   "cell_type": "markdown",
   "metadata": {},
   "source": [
    "# Inputs\n",
    "\n",
    "We often need to take input from users of our programs. \n",
    "\n",
    "By default, Python input is of string datatype:\n",
    "\n",
    "`filename = input(\"Enter the filename\")`\n",
    "\n",
    "in order to take input of an integer, you should cast the input.\n",
    "\n",
    "`age = int(input(\"Enter your age\"))`"
   ]
  },
  {
   "cell_type": "markdown",
   "metadata": {},
   "source": [
    "### Asking for a user's name"
   ]
  },
  {
   "cell_type": "code",
   "execution_count": null,
   "metadata": {},
   "outputs": [],
   "source": [
    "name = ______(\"Enter you name\")\n",
    "print(\"Hi \" + name)"
   ]
  },
  {
   "cell_type": "code",
   "execution_count": null,
   "metadata": {},
   "outputs": [],
   "source": [
    "assert name != \"\", \"Please enter a name.\""
   ]
  },
  {
   "cell_type": "markdown",
   "metadata": {},
   "source": [
    "### Taking in more than 1 input \n",
    "Ask the user for 2 inputs. `4` and `7`. Concatenate the inputs so that both numbers are output next to each other `47`"
   ]
  },
  {
   "cell_type": "code",
   "execution_count": null,
   "metadata": {},
   "outputs": [],
   "source": [
    "num1 = \n",
    "num2 = \n",
    "result = \n",
    "print(result)"
   ]
  },
  {
   "cell_type": "code",
   "execution_count": null,
   "metadata": {},
   "outputs": [],
   "source": [
    "assert result == \"47\""
   ]
  },
  {
   "cell_type": "markdown",
   "metadata": {},
   "source": [
    "## Basic Python operators"
   ]
  },
  {
   "cell_type": "code",
   "execution_count": null,
   "metadata": {},
   "outputs": [],
   "source": [
    "num1 = 10\n",
    "num2 = 5\n",
    "\n",
    "# Addition\n",
    "result_add = num1 + num2\n",
    "\n",
    "# Subtraction\n",
    "result_sub = num1 - num2\n",
    "\n",
    "# Multiplication\n",
    "result_mul = num1 * num2\n",
    "\n",
    "# Exponentiation\n",
    "result_exp = num1 ** num2\n",
    "\n",
    "# Division\n",
    "result_div = num1 / num2\n",
    "\n",
    "# Floor Division\n",
    "result_floor_div = num1 // num2\n",
    "\n",
    "# Modulus\n",
    "result_mod = num1 % num2"
   ]
  },
  {
   "cell_type": "code",
   "execution_count": null,
   "metadata": {},
   "outputs": [],
   "source": [
    "assert result_add == 15\n",
    "assert result_sub == 5\n",
    "assert result_mul == 50\n",
    "assert result_exp == 100000\n",
    "assert result_div == 2.0\n",
    "assert result_floor_div == 2\n",
    "assert result_mod == 0"
   ]
  },
  {
   "cell_type": "markdown",
   "metadata": {},
   "source": [
    "### Calculating the Area of a Rectangle"
   ]
  },
  {
   "cell_type": "code",
   "execution_count": null,
   "metadata": {},
   "outputs": [],
   "source": [
    "length = ______(input(\"Enter the length of the rectangle: \"))\n",
    "width = _____(_____(\"Enter the width of the rectangle: \")___\n",
    "\n",
    "area = length * width\n",
    "\n",
    "print(\"The area of the rectangle is:\", area)"
   ]
  },
  {
   "cell_type": "markdown",
   "metadata": {},
   "source": [
    "### calculating farenheit to celcius\n"
   ]
  },
  {
   "cell_type": "code",
   "execution_count": null,
   "metadata": {},
   "outputs": [],
   "source": [
    "fahrenheit = _____ _____(\"Enter the temperature in Fahrenheit: \"))\n",
    "\n",
    "celsius = (fahrenheit - 32) * 5/9\n",
    "\n",
    "print(\"The temperature in Celsius is:\", celsius)"
   ]
  },
  {
   "cell_type": "markdown",
   "metadata": {},
   "source": [
    "### Checking if a number is odd or even"
   ]
  },
  {
   "cell_type": "code",
   "execution_count": null,
   "metadata": {},
   "outputs": [],
   "source": [
    "number = _____ _____(\"Enter a number: \"))\n",
    "\n",
    "if number % 2 == 0:\n",
    "    print(\"The number is even.\")\n",
    "else:\n",
    "    print(\"The number is odd.\")"
   ]
  },
  {
   "cell_type": "markdown",
   "metadata": {},
   "source": [
    "### Order of operations in calculations"
   ]
  },
  {
   "cell_type": "code",
   "execution_count": null,
   "metadata": {},
   "outputs": [],
   "source": [
    "# Fix the following expression\n",
    "expression = 2 * 3 + 4 - 5\n",
    "\n",
    "# Calculate the result\n",
    "result = expression"
   ]
  },
  {
   "cell_type": "code",
   "execution_count": null,
   "metadata": {},
   "outputs": [],
   "source": [
    "assert result == 13"
   ]
  },
  {
   "cell_type": "markdown",
   "metadata": {},
   "source": [
    "### Working out taxes"
   ]
  },
  {
   "cell_type": "code",
   "execution_count": null,
   "metadata": {},
   "outputs": [],
   "source": [
    "income = 50000\n",
    "tax_rate = 0.2\n",
    "\n",
    "# Calculate taxes\n",
    "taxes = _____ ___ ______"
   ]
  },
  {
   "cell_type": "code",
   "execution_count": null,
   "metadata": {},
   "outputs": [],
   "source": [
    "assert taxes == 10000.0"
   ]
  }
 ],
 "metadata": {
  "language_info": {
   "name": "python"
  }
 },
 "nbformat": 4,
 "nbformat_minor": 2
}
