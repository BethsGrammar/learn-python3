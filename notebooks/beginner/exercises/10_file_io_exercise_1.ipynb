{
 "cells": [
  {
   "cell_type": "markdown",
   "metadata": {},
   "source": [
    "# 1. writing text to a file\n",
    "Fill ____ pieces of the code below to add another song to the example."
   ]
  },
  {
   "cell_type": "code",
   "execution_count": null,
   "metadata": {},
   "outputs": [],
   "source": [
    "file = open(\"assets/mj_songs.txt\", \"w\")\n",
    "file.write(\"Smooth Criminal\")\n",
    "____\n",
    "file.close()"
   ]
  },
  {
   "cell_type": "code",
   "execution_count": null,
   "metadata": {
    "editable": false
   },
   "outputs": [],
   "source": [
    "with open(\"assets/mj_songs.txt\", \"r\") as file:\n",
    "    data = file.read()\n",
    "\n",
    "print(data)\n",
    "assert len(data) > 15, f\"❌ I expected another great song addition\""
   ]
  },
  {
   "cell_type": "markdown",
   "metadata": {},
   "source": [
    "# 2. Write to new lines\n",
    "In the previous task you learned to add text to a file in Python. The problem is that all the text appeared on one line. You can change that by adding `\\n` to your text!\n",
    "\n",
    "`file.write(\"Smooth Criminal\\n\")`\n",
    "\n",
    "Make the necessary changes to your code above"
   ]
  },
  {
   "cell_type": "code",
   "execution_count": null,
   "metadata": {},
   "outputs": [],
   "source": [
    "\n",
    "with open(filename, 'r') as file:\n",
    "    fileLength =  len(list(file))\n",
    "\n",
    "assert fileLength >= 2, f\"❌ Expected {expected_count} lines, but found {actual_count}\""
   ]
  },
  {
   "cell_type": "code",
   "execution_count": null,
   "metadata": {
    "editable": false
   },
   "outputs": [],
   "source": [
    "in_file1 = DATA_DIR / \"simple_file.txt\"\n",
    "in_file2 = DATA_DIR / \"simple_file_with_empty_lines.txt\"\n",
    "\n",
    "expected_file_1 = [\"First\", \"Second\", \"Third\", \"And\"]\n",
    "assert find_first_words(in_file1) == expected_file_1\n",
    "\n",
    "expected_file_2 = [\"The\", \"\", \"First\", \"nonsense\", \"\", \"Then\"]\n",
    "assert find_first_words(in_file2) == expected_file_2"
   ]
  }
 ],
 "metadata": {
  "celltoolbar": "Edit Metadata",
  "kernelspec": {
   "display_name": "Python 3",
   "language": "python",
   "name": "python3"
  },
  "language_info": {
   "codemirror_mode": {
    "name": "ipython",
    "version": 3
   },
   "file_extension": ".py",
   "mimetype": "text/x-python",
   "name": "python",
   "nbconvert_exporter": "python",
   "pygments_lexer": "ipython3",
   "version": "3.12.4"
  }
 },
 "nbformat": 4,
 "nbformat_minor": 2
}
