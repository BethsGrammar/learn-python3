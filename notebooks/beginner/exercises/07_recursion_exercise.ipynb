{
 "cells": [
  {
   "cell_type": "markdown",
   "metadata": {},
   "source": [
    "# 1. Recursion\n"
   ]
  },
  {
   "cell_type": "code",
   "execution_count": null,
   "metadata": {},
   "outputs": [],
   "source": [
    "def calc_factorial(x):\n",
    "    \"\"\"This is a recursive function to find the factorial of an integer\"\"\"\n",
    "    if x == 1:\n",
    "        return 1\n",
    "    else:\n",
    "        return (x * calc_factorial(x-1))\n",
    "\n",
    "num = 4\n",
    "print(\"The factorial of\", num, \"is\", calc_factorial(num))"
   ]
  },
  {
   "cell_type": "markdown",
   "metadata": {},
   "source": [
    "## Task 1\n",
    "\n",
    "Try to fill `____` parts of the implementation below to complete the recursive function for the fibonacci sequence."
   ]
  },
  {
   "cell_type": "code",
   "execution_count": null,
   "metadata": {},
   "outputs": [],
   "source": [
    "def fibonacci(____):\n",
    "    \"\"\"Calculates the nth Fibonacci number recursively.\"\"\"\n",
    "    if n <= 0:\n",
    "        ____ 0\n",
    "    elif n == ____:\n",
    "        return 1\n",
    "    else:\n",
    "        return ____(n - 1) + ____(n - 2)\n",
    "\n",
    "# Example usage:\n",
    "result = ____(7)\n",
    "print(result)  # Output: 13"
   ]
  },
  {
   "cell_type": "code",
   "execution_count": null,
   "metadata": {},
   "outputs": [],
   "source": [
    "assert fibonacci(7) == 13"
   ]
  },
  {
   "cell_type": "markdown",
   "metadata": {},
   "source": [
    "# 2. Dealing with exceptions\n",
    "Fill `____` parts of the implementation below. `sum_of_list` function takes a list as argument and calculates the sum of values in the list. If some element in the list can not be converted to a numeric value, it should be ignored from the sum."
   ]
  },
  {
   "cell_type": "code",
   "execution_count": null,
   "metadata": {},
   "outputs": [],
   "source": [
    "def sum_of_list(values):\n",
    "    ____ = 0\n",
    "    for val in values:\n",
    "        ____:\n",
    "            numeric_val = float(val)\n",
    "        ____ ____ as e:\n",
    "            ____\n",
    "        ____ += numeric_val\n",
    "    return ____"
   ]
  },
  {
   "cell_type": "code",
   "execution_count": null,
   "metadata": {
    "editable": false
   },
   "outputs": [],
   "source": [
    "list1 = [1, 2, 3]\n",
    "list2 = [\"1\", 2.5, \"3.0\"]\n",
    "list3 = [\"\", \"1\"]\n",
    "list4 = []\n",
    "list5 = [\"John\", \"Doe\", \"was\", \"here\"]\n",
    "nasty_list = [KeyError(), [], dict()]\n",
    "\n",
    "assert sum_of_list(list1) == 6\n",
    "assert sum_of_list(list2) == 6.5\n",
    "assert sum_of_list(list3) == 1\n",
    "assert sum_of_list(list4) == 0\n",
    "assert sum_of_list(list5) == 0\n",
    "assert sum_of_list(nasty_list) == 0"
   ]
  },
  {
   "cell_type": "markdown",
   "metadata": {},
   "source": [
    "# 2. Using custom exceptions\n",
    "Implement `verify_short_string` function which takes a single string as argument. If the length of the input string is more than ten characters, the function should raise `TooLongString` exception (note: you have to create `TooLongString` yourself). The function does not have to return anything.  "
   ]
  },
  {
   "cell_type": "code",
   "execution_count": null,
   "metadata": {},
   "outputs": [],
   "source": [
    "# Your implementation here"
   ]
  },
  {
   "cell_type": "code",
   "execution_count": null,
   "metadata": {
    "editable": false
   },
   "outputs": [],
   "source": [
    "# These should not raise\n",
    "verify_short_string(\"short\")\n",
    "verify_short_string(\"10   chars\")\n",
    "\n",
    "# This should raise\n",
    "try:\n",
    "    verify_short_string(\"this is long\")\n",
    "except TooLongString as e:\n",
    "    # This is ok\n",
    "    pass\n",
    "else:\n",
    "    # This means that there was no exception\n",
    "    assert False"
   ]
  },
  {
   "cell_type": "markdown",
   "metadata": {},
   "source": [
    "# 3. Cluedo part 2 (extension work)\n",
    "Now that the game sorts and deals cards based on how many players there are, we want the game to show you your own cards / clues that are dealt to you."
   ]
  },
  {
   "cell_type": "code",
   "execution_count": null,
   "metadata": {},
   "outputs": [],
   "source": [
    "from random import randint, shuffle\n",
    "\n",
    "# Create a list to store all the players\n",
    "playersL = ['Mrs. White','Mr. Green','Mrs. Peacock','Professor Plum','Miss Scarlet','Colonel Mustard']\n",
    "players = ['Mrs. White','Mr. Green','Mrs. Peacock','Professor Plum','Miss Scarlet','Colonel Mustard']\n",
    "\n",
    "# Create a list to store all the rooms\n",
    "rooms = ['Kithen', 'Ball Room','Convervatory','Dining Room','Billiard Room','Library','Lounge','Hall','Study']\n",
    "\n",
    "# Create a list to store all the possible killing instruments\n",
    "weapons = ['Candlestick','Dagger','Lead Pipe','Revolver','Rope','Spanner']\n",
    "\n",
    "# randomly select a weapon, a room and a killer and place into \n",
    "# a new list called envelope.\n",
    "# You must also remove these items from the other lists\n",
    "randomNo1 = randint(0,5)\n",
    "randomPlayer = players[randomNo1]\n",
    "randomNo2 = randint(0,5)\n",
    "randomWeapon = weapons[randomNo2]\n",
    "randomNo3 = randint(0,8)\n",
    "randomRoom = rooms[randomNo3]\n",
    "\n",
    "envelope = []\n",
    "envelope.append(randomPlayer)\n",
    "playersL.pop(randomNo1)\n",
    "envelope.append(randomRoom)\n",
    "weapons.pop(randomNo2)\n",
    "envelope.append(randomWeapon)\n",
    "rooms.pop(randomNo3)\n",
    "\n",
    "# Create a list for every new player \n",
    "allplayers = [\n",
    "    [],\n",
    "    [],\n",
    "    [],\n",
    "    [],\n",
    "    [],\n",
    "    [],\n",
    "]\n",
    "\n",
    "# Add all the remaining items from each list into a new list called allcards\n",
    "# shuffle allcards \n",
    "allcards = []\n",
    "for i in playersL:\n",
    "  allcards.append(i)\n",
    "for i in weapons:\n",
    "  allcards.append(i)\n",
    "for i in rooms:\n",
    "  allcards.append(i)\n",
    "shuffle(allcards)\n",
    "\n",
    "howmanyPeople = int(input(\"How many people will be playing the game?\"))\n",
    "# Deal to each player's list the cards from allcards.\n",
    "# this deals each player 3 cards each.\n",
    "while len(allcards) > 0:\n",
    "    for player in range(0, howmanyPeople):\n",
    "        allplayers[player].append(allcards[0])\n",
    "        allcards.pop(0)\n",
    "        if len(allcards) == 0:\n",
    "            break\n",
    "\n",
    "for player in range(0, howmanyPeople):\n",
    "    print(f\"player {player+1} cards: \\n {allplayers[player]}\")\n",
    "\n",
    "################################################################################################\n",
    "# Part 2 of the game\n",
    "# So each player has 3-4 cards. The array allplayers is a 2d array. each item starts with the name of\n",
    "# the player followed by the 3 or 4 cards the players holds to their chest!\n",
    "\n",
    "# Randomly select a player for yourself from the allplayers list\n",
    "\n",
    "# create a function that will allow you to view your clues\n",
    "\n",
    "# You are player x. some inputs to suggest who the murderer may be along with the weapon and room.\n",
    "\n",
    "\n",
    "# Next you need to create a function that will get a response from each player. \n",
    "# each player will either point to evidence to say that your suggestion is wrong\n",
    "# or that they have no evidence to disaprove you.\n",
    "# If a player has more than 1 of the evidences, they should only show 1.\n"
   ]
  }
 ],
 "metadata": {
  "kernelspec": {
   "display_name": "Python 3",
   "language": "python",
   "name": "python3"
  },
  "language_info": {
   "codemirror_mode": {
    "name": "ipython",
    "version": 3
   },
   "file_extension": ".py",
   "mimetype": "text/x-python",
   "name": "python",
   "nbconvert_exporter": "python",
   "pygments_lexer": "ipython3",
   "version": "3.12.4"
  }
 },
 "nbformat": 4,
 "nbformat_minor": 2
}
