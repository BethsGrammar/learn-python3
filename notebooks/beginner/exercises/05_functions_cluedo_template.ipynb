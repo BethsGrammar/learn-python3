{
 "cells": [
  {
   "cell_type": "markdown",
   "metadata": {},
   "source": [
    "# Deal the cards!\n",
    "You will need to randomise the cards and deal each player an equal number of cards depending on how many players are playing the game."
   ]
  },
  {
   "cell_type": "code",
   "execution_count": null,
   "metadata": {},
   "outputs": [],
   "source": [
    "# Create a list to store all the players\n",
    "players = [\n",
    "\t'Mr Red'\n",
    "]\n",
    "# Create a list to store all the rooms\n",
    "\n",
    "# Create a list to store all the possible killing instruments\n",
    "# randomly select a weapon, a room and a killer and place into \n",
    "# a new list called envelope.\n",
    "\n",
    "\n",
    "# You must also remove these items from the other lists\n",
    "\n",
    "# Ask how many players will be playing\n",
    "\n",
    "\n",
    "# Create a list for every new player \n",
    "\n",
    "\n",
    "# Add all the remaining items from each list into a new list called allcards\n",
    "\n",
    "# shuffle allcards \n",
    "\n",
    "# Deal to each player's list the cards from allcards.\n",
    "\n"
   ]
  },
  {
   "cell_type": "markdown",
   "metadata": {},
   "source": [
    "# 2D Arrays\n",
    "\n",
    "Complete the function below so that the naughts and crosses are placed in the correct place. \n",
    "\n",
    "so if its x's turn, the player may call the function `place(1,1,\"x\")`.\n",
    "\n",
    "This would mean that an x should be placed in row 1 and position 1.\n",
    "\n",
    "```\n",
    "board = [\n",
    "  [\"x\",\"\",\"\"],\n",
    "  [\"\",\"\",\"\"],\n",
    "  [\"\",\"\",\"\"]\n",
    "]\n",
    "```\n",
    "Then if the other player calls the function as `place(2,2,\"o\")`, it should result in:\n",
    "\n",
    "```\n",
    "board = [\n",
    "  [\"x\",\"\",\"\"],\n",
    "  [\"\",\"2\",\"\"],\n",
    "  [\"\",\"\",\"\"]\n",
    "]\n",
    "```\n",
    "\n",
    "If either player has 3 in a row, it should return that `x is the winner` or `o is the winner` or that `it's a draw`. "
   ]
  },
  {
   "cell_type": "code",
   "execution_count": null,
   "metadata": {},
   "outputs": [],
   "source": [
    "board = [\n",
    "  [\"\",\"\",\"\"],\n",
    "  [\"\",\"\",\"\"],\n",
    "  [\"\",\"\",\"\"]\n",
    "]\n",
    "\n",
    "_____ place(x,y):\n"
   ]
  },
  {
   "cell_type": "code",
   "execution_count": null,
   "metadata": {},
   "outputs": [],
   "source": [
    "place(1,1,\"x\"), place(3,3,\"o\"), place(1,2,\"x\"), place(2,2,\"o\"), place(1,3,\"x\")\n"
   ]
  }
 ],
 "metadata": {
  "kernelspec": {
   "display_name": "Python 3 (ipykernel)",
   "language": "python",
   "name": "python3"
  },
  "language_info": {
   "codemirror_mode": {
    "name": "ipython",
    "version": 3
   },
   "file_extension": ".py",
   "mimetype": "text/x-python",
   "name": "python",
   "nbconvert_exporter": "python",
   "pygments_lexer": "ipython3",
   "version": "3.11.0"
  }
 },
 "nbformat": 4,
 "nbformat_minor": 2
}
