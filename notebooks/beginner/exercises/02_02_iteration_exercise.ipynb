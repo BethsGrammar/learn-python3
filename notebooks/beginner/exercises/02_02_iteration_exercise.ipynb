{
 "cells": [
  {
   "cell_type": "markdown",
   "metadata": {},
   "source": [
    "# 1. `for`\n",
    "Fill missing pieces (`____`) of the following code such that prints make sense."
   ]
  },
  {
   "cell_type": "code",
   "execution_count": null,
   "metadata": {},
   "outputs": [],
   "source": [
    "for ____ in range(0, 5):\n",
    "    print(i)"
   ]
  },
  {
   "cell_type": "markdown",
   "metadata": {},
   "source": [
    "# 2. Create a running total\n",
    "The loop should iterate 5 times and the total should be 10."
   ]
  },
  {
   "cell_type": "code",
   "execution_count": null,
   "metadata": {},
   "outputs": [],
   "source": [
    "total = 0\n",
    "\n",
    "_____ i in range(_____):\n",
    "    total = ______ + 2"
   ]
  },
  {
   "cell_type": "code",
   "execution_count": null,
   "metadata": {
    "editable": false
   },
   "outputs": [],
   "source": [
    "assert total == 10"
   ]
  },
  {
   "cell_type": "markdown",
   "metadata": {},
   "source": [
    "# 3. adding i to the totalGrading Calculator\n",
    "The total starts as 7 and should result in 52."
   ]
  },
  {
   "cell_type": "code",
   "execution_count": null,
   "metadata": {},
   "outputs": [],
   "source": [
    "total = 7\n",
    "\n",
    "_____ i in range(_____):\n",
    "    total = ______ + _____"
   ]
  },
  {
   "cell_type": "code",
   "execution_count": null,
   "metadata": {},
   "outputs": [],
   "source": [
    "assert total == 52"
   ]
  },
  {
   "cell_type": "markdown",
   "metadata": {},
   "source": [
    "# 4. HighestNumber & the multiplier\n",
    "Write a programme to take 2 inputs from a user. The `highestNumber` and the `multiplier`.\n",
    "\n",
    "The programme must count to the highest number in iterations of the multiplier. It must display each iteration.\n",
    "\n",
    "For example if the highest number is 56 and the multiplier is 6, the programme should output: 6,12, 18, 24, 30, 36, 42, 48, 54\n"
   ]
  },
  {
   "cell_type": "code",
   "execution_count": null,
   "metadata": {},
   "outputs": [],
   "source": [
    "# your code here"
   ]
  },
  {
   "cell_type": "markdown",
   "metadata": {},
   "source": [
    "# 5. lowest of 2 numbers becomes the multiplier\n",
    "Just like the last task, write a programme to take 2 inputs from a user. \n",
    "\n",
    "This time, the lowest of the 2 will be the multiplier and the highest will be the number that the sequence will multiply up to."
   ]
  },
  {
   "cell_type": "code",
   "execution_count": null,
   "metadata": {},
   "outputs": [],
   "source": [
    "num1, num2 = int(input(\"Enter a number\")), int(input(\"Enter another number\"))\n",
    "\n",
    "# your code here"
   ]
  }
 ],
 "metadata": {
  "kernelspec": {
   "display_name": "Python 3",
   "language": "python",
   "name": "python3"
  },
  "language_info": {
   "codemirror_mode": {
    "name": "ipython",
    "version": 3
   },
   "file_extension": ".py",
   "mimetype": "text/x-python",
   "name": "python",
   "nbconvert_exporter": "python",
   "pygments_lexer": "ipython3",
   "version": "3.12.4"
  }
 },
 "nbformat": 4,
 "nbformat_minor": 2
}
